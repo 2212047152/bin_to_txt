{
 "cells": [
  {
   "cell_type": "code",
   "execution_count": 1,
   "metadata": {},
   "outputs": [],
   "source": [
    "with open(\"hello.bin\", \"rb\") as f:\n",
    "    with open(\"output.txt\", \"w\") as g:\n",
    "        while True:\n",
    "            # 从二进制文件中读取1个字节的数据\n",
    "            data = f.read(1)\n",
    "            if not data:\n",
    "                # 文件读取完毕，退出循环\n",
    "                break\n",
    "            # 将读取到的数据转换成16进制字符串\n",
    "            hex_str = hex(data[0])[2:]\n",
    "            # 在字符串前面补零，确保长度为2\n",
    "            hex_str = hex_str.zfill(2)\n",
    "            # 将16进制字符串写入到文本文件中\n",
    "            g.write(hex_str)\n",
    "            # 如果当前行已经包含了2个字符，换行\n",
    "            if g.tell() % 2 == 0:\n",
    "                g.write(\"\\n\")\n",
    "            else:\n",
    "                g.write(\" \")\n"
   ]
  }
 ],
 "metadata": {
  "kernelspec": {
   "display_name": "base",
   "language": "python",
   "name": "python3"
  },
  "language_info": {
   "codemirror_mode": {
    "name": "ipython",
    "version": 3
   },
   "file_extension": ".py",
   "mimetype": "text/x-python",
   "name": "python",
   "nbconvert_exporter": "python",
   "pygments_lexer": "ipython3",
   "version": "3.9.13"
  },
  "orig_nbformat": 4
 },
 "nbformat": 4,
 "nbformat_minor": 2
}
